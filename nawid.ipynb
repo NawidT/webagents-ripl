{
 "cells": [
  {
   "cell_type": "markdown",
   "metadata": {},
   "source": [
    "## How to run the task(s)\n",
    "\n",
    "1. Create a .env file and enter the following info (OPENAI_API_KEY, GOOGLE_API_KEY, GRAPHQL_PASSWORD, GRAPHQL_USERNAME)\n",
    "2. Run the printenv below to ensure the env variables are loaded, if not, then restart the notebook kernel\n",
    "3. Run the Task Runner. Select start and end indices"
   ]
  },
  {
   "cell_type": "code",
   "execution_count": null,
   "metadata": {},
   "outputs": [],
   "source": [
    "! printenv"
   ]
  },
  {
   "cell_type": "markdown",
   "metadata": {},
   "source": [
    "# Experiments\n",
    "\n",
    "We will be experiementung the different types of agents performing over a range of tasks provided in https://huggingface.co/datasets/iMeanAI/Mind2Web-Live. The agents differ in terms of inputs taken (language, vision, etc) and the reward structure, which essentially is feedback from another (ideally more powerful) LLM about whether the agent is going in the right track. "
   ]
  },
  {
   "cell_type": "markdown",
   "metadata": {},
   "source": [
    "### Tasks Runner"
   ]
  },
  {
   "cell_type": "code",
   "execution_count": null,
   "metadata": {},
   "outputs": [],
   "source": [
    "! python evaluate.py \\\n",
    "    --global_reward_mode dom_reward \\\n",
    "    --index 15,20 \\\n",
    "    --single_task_name \"\" \\\n",
    "    --planning_text_model \"gemini-1.5-flash-002\" \\\n",
    "    --global_reward_text_model \"gpt-4o-mini\""
   ]
  },
  {
   "cell_type": "markdown",
   "metadata": {},
   "source": [
    "# Qualitative Reports\n",
    "\n",
    "## Language Only: dom mode + global reward\n",
    "\n",
    "The agent seems to handle well with navigating from one page to another. The Planner and Evaluator work cohesively to propogate agent towards the right direction, resulting in lower time steps when Evaluator is used compared to not being used. They seem to falter upon sign-up forms, access denied pages and other dead-end situations. It also hits dead-ends when it hits pages that it cannot fill up such as custom search boxes or other custom UI elements. Another situation that occurs is during the dead-ends the agent tends to not perform any action but rather hallucinate itself into creating a mock-up plan. In essence, the agent creates data for itself and suggests actions to take on make shift information. This can be seen in the task where in Kohl's website they search for swimsuits. \n",
    "\n",
    "## Language + Vision: d_v (dom + vision) mode + no global reward\n",
    "\n",
    "The addition of vision improves the performance on dead-end situations. It handles access denied pages and pop-ups much better than the DOM-only approach. There also seems to be a disparity where the DOM approach finds elements that aren't in the view of the screenshot, so instead of scrolling down, buttons are pressed. In the planning response there seems to be an emphasis on the screenshot and ample use of previous steps. This method is also considerably slower given the screenshots. \n",
    "\n",
    "\n",
    "# Quantitative Reports\n",
    "\n",
    "### Language Only: dom mode + global reward\n",
    "- Average Time Step = 13.909\n",
    "- Max Time Step = 25\n",
    "- Min Time Step = 10\n",
    "- Average Step Score = 0.3954\n",
    "- Average Task Length Score = 0.876\n",
    "\n",
    "### Language + Vision: d_v (dom + vision) mode + no global reward\n",
    "- Average Time Step = 12.75\n",
    "- Max Time Step = 15\n",
    "- Min Time Step = 10\n",
    "- Average Step Score = 0.3888\n",
    "- Average Task Length Score = 0.9658\n",
    "\n"
   ]
  }
 ],
 "metadata": {
  "kernelspec": {
   "display_name": "webcanvas",
   "language": "python",
   "name": "python3"
  },
  "language_info": {
   "codemirror_mode": {
    "name": "ipython",
    "version": 3
   },
   "file_extension": ".py",
   "mimetype": "text/x-python",
   "name": "python",
   "nbconvert_exporter": "python",
   "pygments_lexer": "ipython3",
   "version": "3.11.11"
  }
 },
 "nbformat": 4,
 "nbformat_minor": 2
}
