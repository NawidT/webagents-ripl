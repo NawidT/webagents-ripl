{
 "cells": [
  {
   "cell_type": "markdown",
   "metadata": {},
   "source": [
    "## Run the Task(s)"
   ]
  },
  {
   "cell_type": "code",
   "execution_count": null,
   "metadata": {},
   "outputs": [],
   "source": [
    "! printenv"
   ]
  },
  {
   "cell_type": "markdown",
   "metadata": {},
   "source": [
    "# Experiment 1. Language Only Observations"
   ]
  },
  {
   "cell_type": "markdown",
   "metadata": {},
   "source": [
    "### Tasks 1 - 4\n",
    "\n",
    "Agent broke down at Task 4 due to sign in page. "
   ]
  },
  {
   "cell_type": "code",
   "execution_count": null,
   "metadata": {},
   "outputs": [],
   "source": [
    "! python evaluate.py \\\n",
    "    --global_reward_mode dom_reward \\\n",
    "    --index 0,4 \\\n",
    "    --single_task_name \"\" \\\n",
    "    --planning_text_model \"gemini-1.5-flash-002\" \\\n",
    "    --global_reward_text_model \"gpt-4o-mini\""
   ]
  },
  {
   "cell_type": "markdown",
   "metadata": {},
   "source": [
    "### Tasks 5 - 30\n",
    "\n",
    "- Task 7: Sign In Page at Target \n",
    "- Task 8: Attempts to use hypothetical data when it can't find data from Kohl's website\n",
    "- Task 17: "
   ]
  },
  {
   "cell_type": "code",
   "execution_count": 7,
   "metadata": {},
   "outputs": [
    {
     "name": "stdout",
     "output_type": "stream",
     "text": [
      "2025-01-10 14:56:10,740**[\u001b[32mINFO\u001b[0m]**|| ****************************************************************************************************\u001b[0m\n",
      "2025-01-10 14:56:10,741**[\u001b[32mINFO\u001b[0m]**|| task index: 25\u001b[0m\n",
      "2025-01-10 14:56:10,741**[\u001b[32mINFO\u001b[0m]**|| task name: Find Playstation 5 digital edition on gamestop.\u001b[0m\n",
      "2025-01-10 14:56:10,741**[\u001b[32mINFO\u001b[0m]**|| task reference length: 6\u001b[0m\n",
      "2025-01-10 14:56:10,741**[\u001b[32mINFO\u001b[0m]**|| raw data annotation: [{'match_function': 'url_included_match', 'key': '', 'reference_answer': 'gamestop.', 'score': 0}, {'match_function': 'url_semantic_match', 'key': 'q', 'reference_answer': 'Decide whether are searching for playstation 5 digital edition', 'score': 0}]\u001b[0m\n",
      "2025-01-10 14:56:11,155**[\u001b[32mINFO\u001b[0m]**|| No BrowserBase API key found, launching local browser...\u001b[0m\n",
      "2025-01-10 14:56:11,612**[\u001b[32mINFO\u001b[0m]**|| Local browser launched successfully\u001b[0m\n",
      "2025-01-10 14:56:14,759**[\u001b[32mINFO\u001b[0m]**|| **🤖 The agent is in the process of starting planning 🤖**\u001b[0m\n",
      "prompt_constructor.py D_VObservationPromptConstructor: The string is empty. \n",
      "\n",
      "messages finished!\n",
      "\n",
      "planning request:  [{'role': 'system', 'content': ''}, {'role': 'user', 'content': [{'type': 'text', 'text': 'The question here is described as \"Find Playstation 5 digital edition on gamestop.\".\\n'}]}]\n",
      "\u001b[32mplanning_request:\n",
      "[\n",
      "    {\n",
      "        \"role\": \"system\",\n",
      "        \"content\": \"\"\n",
      "    },\n",
      "    {\n",
      "        \"role\": \"user\",\n",
      "        \"content\":         [\n",
      "            {\n",
      "                \"type\": \"text\",\n",
      "                \"text\": \"The question here is described as \\\"Find Playstation 5 digital edition on gamestop.\\\".\\n\"\n",
      "            }\n",
      "        ]\n",
      "    }\n",
      "]\n",
      "\u001b[0m\n",
      "2025-01-10 14:56:20,190**[\u001b[32mINFO\u001b[0m]**|| HTTP Request: POST https://api.openai.com/v1/chat/completions \"HTTP/1.1 200 OK\"\u001b[0m\n",
      "2025-01-10 14:56:20,208**[\u001b[32mINFO\u001b[0m]**|| \u001b[34mPlanning_Response:\n",
      "As of my last update, I can't browse the internet in real-time including current stock levels or prices at GameStop or any other retailer. To find whether the PlayStation 5 Digital Edition is available at GameStop, you would need to visit the GameStop website or contact a GameStop store directly. You can check for availability, pricing, and possibly reserve or order your console through their online platform or by visiting a physical store. If it's not available, you might also consider checking other retailers, or setting up notifications for restocks on various websites.\u001b[0m\n",
      "2025-01-10 14:56:20,209**[\u001b[31mERROR\u001b[0m]**|| Response Error:Response is an invalid JSON blob or Empty!\u001b[0m\n",
      "Traceback (most recent call last):\n",
      "  File \"/Users/ntahmid/Documents/Coding/PersonalProjects/RIPL/webagents-ripl/evaluate/evaluate_utils.py\", line 501, in run_task\n",
      "    out_put = await Planning.plan(\n",
      "              ^^^^^^^^^^^^^^^^^^^^\n",
      "  File \"/Users/ntahmid/Documents/Coding/PersonalProjects/RIPL/webagents-ripl/agent/Plan/planning.py\", line 216, in plan\n",
      "    planning_response_thought, planning_response_action = ActionParser().extract_thought_and_action(\n",
      "                                                          ^^^^^^^^^^^^^^^^^^^^^^^^^^^^^^^^^^^^^^^^^^\n",
      "  File \"/Users/ntahmid/Documents/Coding/PersonalProjects/RIPL/webagents-ripl/agent/Plan/action.py\", line 37, in extract_thought_and_action\n",
      "    raise ResponseError(\n",
      "agent.Plan.action.ResponseError: Response is an invalid JSON blob or Empty!\n",
      "prompt_constructor.py D_VObservationPromptConstructor: The string is empty. \n",
      "\n",
      "messages finished!\n",
      "\n",
      "planning request:  [{'role': 'system', 'content': ''}, {'role': 'user', 'content': [{'type': 'text', 'text': 'The question here is described as \"Find Playstation 5 digital edition on gamestop.\".\\n'}]}]\n",
      "\u001b[32mplanning_request:\n",
      "[\n",
      "    {\n",
      "        \"role\": \"system\",\n",
      "        \"content\": \"\"\n",
      "    },\n",
      "    {\n",
      "        \"role\": \"user\",\n",
      "        \"content\":         [\n",
      "            {\n",
      "                \"type\": \"text\",\n",
      "                \"text\": \"The question here is described as \\\"Find Playstation 5 digital edition on gamestop.\\\".\\n\"\n",
      "            }\n",
      "        ]\n",
      "    }\n",
      "]\n",
      "\u001b[0m\n",
      "2025-01-10 14:56:31,243**[\u001b[32mINFO\u001b[0m]**|| HTTP Request: POST https://api.openai.com/v1/chat/completions \"HTTP/1.1 200 OK\"\u001b[0m\n",
      "2025-01-10 14:56:31,248**[\u001b[32mINFO\u001b[0m]**|| \u001b[34mPlanning_Response:\n",
      "As of my last update, I can't browse the internet in real-time or check current inventory levels directly on websites like GameStop. To find a PlayStation 5 Digital Edition on GameStop, you should follow these steps:\n",
      "\n",
      "1. **Visit the Official GameStop Website:**\n",
      "   Go to [www.gamestop.com](http://www.gamestop.com).\n",
      "\n",
      "2. **Search for PlayStation 5:**\n",
      "   Use the search bar at the top of the GameStop homepage. Type in \"PlayStation 5 Digital Edition\" and press enter or click on the search icon.\n",
      "\n",
      "3. **Check Product Availability:**\n",
      "   Once the search results are displayed, look for the PlayStation 5 Digital Edition. Availability can vary greatly due to high demand. Check if it's available for purchase online or in-store pickup.\n",
      "\n",
      "4. **Create/Sign Into Your Account:**\n",
      "   To purchase products, you might need to create an account or sign in if you already have one.\n",
      "\n",
      "5. **Follow Purchase Instructions:**\n",
      "   If the console is available, follow the instructions on the website to complete your purchase. This might involve adding the console to your cart and proceeding to checkout.\n",
      "\n",
      "6. **Monitor Stock:**\n",
      "   If the console isn’t available, you might want to check back frequently. GameStop occasionally restocks their inventory. You can also sign up for stock alerts if this service is available.\n",
      "\n",
      "7. **Visit Physical Stores:**\n",
      "   Sometimes local stores might have stock even if the online store does not. It can be useful to visit or call your local GameStop to check availability.\n",
      "\n",
      "Remember, due to high demand, PS5 consoles can be hard to find and might sell out quickly after restocking.\u001b[0m\n",
      "2025-01-10 14:56:31,249**[\u001b[31mERROR\u001b[0m]**|| Response Error:Response is an invalid JSON blob or Empty!\u001b[0m\n",
      "Traceback (most recent call last):\n",
      "  File \"/Users/ntahmid/Documents/Coding/PersonalProjects/RIPL/webagents-ripl/evaluate/evaluate_utils.py\", line 501, in run_task\n",
      "    out_put = await Planning.plan(\n",
      "              ^^^^^^^^^^^^^^^^^^^^\n",
      "  File \"/Users/ntahmid/Documents/Coding/PersonalProjects/RIPL/webagents-ripl/agent/Plan/planning.py\", line 216, in plan\n",
      "    planning_response)\n",
      "                       \n",
      "  File \"/Users/ntahmid/Documents/Coding/PersonalProjects/RIPL/webagents-ripl/agent/Plan/action.py\", line 37, in extract_thought_and_action\n",
      "    raise ResponseError(\n",
      "agent.Plan.action.ResponseError: Response is an invalid JSON blob or Empty!\n",
      "prompt_constructor.py D_VObservationPromptConstructor: The string is empty. \n",
      "\n",
      "messages finished!\n",
      "\n",
      "planning request:  [{'role': 'system', 'content': ''}, {'role': 'user', 'content': [{'type': 'text', 'text': 'The question here is described as \"Find Playstation 5 digital edition on gamestop.\".\\n'}]}]\n",
      "\u001b[32mplanning_request:\n",
      "[\n",
      "    {\n",
      "        \"role\": \"system\",\n",
      "        \"content\": \"\"\n",
      "    },\n",
      "    {\n",
      "        \"role\": \"user\",\n",
      "        \"content\":         [\n",
      "            {\n",
      "                \"type\": \"text\",\n",
      "                \"text\": \"The question here is described as \\\"Find Playstation 5 digital edition on gamestop.\\\".\\n\"\n",
      "            }\n",
      "        ]\n",
      "    }\n",
      "]\n",
      "\u001b[0m\n",
      "^C\n"
     ]
    }
   ],
   "source": [
    "! python evaluate.py \\\n",
    "    --global_reward_mode no_global_reward \\\n",
    "    --index 25,30 \\\n",
    "    --single_task_name \"\" \\\n",
    "    --planning_text_model \"gemini-1.5-flash-002\" \\\n",
    "    --global_reward_text_model \"gpt-4o-mini\""
   ]
  },
  {
   "cell_type": "markdown",
   "metadata": {},
   "source": [
    "## Report"
   ]
  },
  {
   "cell_type": "markdown",
   "metadata": {},
   "source": [
    "The agent seems to handle well with navigating from one page to another. The Planner and Evaluator work cohesively to propogate agent towards the right direction, resulting in lower time steps when Evaluator is used compared to not being used. They seem to falter upon sign-up forms, access denied pages and other dead-end situations. It also hits dead-ends when it \n",
    "\n",
    "\n",
    "A potential solution could be the use of a tree in the backend to give LLM info about all options"
   ]
  }
 ],
 "metadata": {
  "kernelspec": {
   "display_name": "webcanvas",
   "language": "python",
   "name": "python3"
  },
  "language_info": {
   "codemirror_mode": {
    "name": "ipython",
    "version": 3
   },
   "file_extension": ".py",
   "mimetype": "text/x-python",
   "name": "python",
   "nbconvert_exporter": "python",
   "pygments_lexer": "ipython3",
   "version": "3.11.11"
  }
 },
 "nbformat": 4,
 "nbformat_minor": 2
}
